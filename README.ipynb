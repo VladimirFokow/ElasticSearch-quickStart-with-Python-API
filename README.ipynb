{
 "cells": [
  {
   "attachments": {},
   "cell_type": "markdown",
   "metadata": {},
   "source": [
    "# Introduction to using the Elasticsearch Python client: <br /> https://elasticsearch-py.readthedocs.io/\n",
    "\n",
    "(unofficial) <br />\n",
    "(warning: I could mix up the commands of ElasticSearch versions 7 and 8)"
   ]
  },
  {
   "attachments": {},
   "cell_type": "markdown",
   "metadata": {},
   "source": [
    "<br />"
   ]
  },
  {
   "attachments": {},
   "cell_type": "markdown",
   "metadata": {},
   "source": [
    "# Motivation for this repository:\n",
    "There exists a great\n",
    "[Beginner's Crash Course to Elastic Stack](https://github.com/LisaHJung/Beginners-Crash-Course-to-Elastic-Stack-Series-Table-of-Contents) \n",
    "which includes the \n",
    "[Beginner's Crash Course to Elastic Stack workshop playlist](https://www.youtube.com/playlist?list=PL_mJOmq4zsHZYAyK606y7wjQtC0aoE6Es)\n",
    "where, above else, they introduce the basic operations of the [Elastic Search REST API](https://www.elastic.co/guide/en/elasticsearch/reference/8.6/rest-apis.html).\n",
    "\n",
    "There also exist many \n",
    "[language-specific clients](https://www.elastic.co/guide/en/elasticsearch/client/index.html) \n",
    "for ElasticSearch (which use this REST API under the hood), but\n",
    "it can be difficult to figure out how exactly the original REST API commands \n",
    "correspond to the language-specific commands.\n",
    "\n",
    "**So this repository gives an introduction to the most basic Python Client commands for ElasticSearch.**\n",
    "\n",
    "---\n",
    "\n",
    "<br />\n",
    "\n",
    "#### **BONUS**: \n",
    "\n",
    "Consider a useful trick:\n",
    "\n",
    "> When you see a REST API command but don't know it's equivalent in Python, e.g. \n",
    "> [this one](https://www.elastic.co/guide/en/elasticsearch/reference/current/indices-put-mapping.html),\n",
    "> how to find out the python command for it?\n",
    "\n",
    "Search for back-reference:\n",
    "\n",
    "- copy the last part of the url: `indices-put-mapping.html`\n",
    "- use this search on Google: <\\n>\n",
    "`site: https://elasticsearch-py.readthedocs.io/ \"indices-put-mapping.html\"` where you insert your copied text in the double quotes.\n",
    "- This will find this exact text on the website of the Python API. It's convenient that the Python API website usually links the link to the REST API equivalent of each command. So this lets us find the webpage.\n",
    "- On this webpage use `ctrl+f` to find the exact position of `indices-put-mapping.html`\n",
    "\n",
    "---\n",
    "\n",
    "\n",
    "Alternatively, you can avoid using the Python Client completely, and just use the \n",
    "original REST API from Python with the help of `requests` library.\n",
    "\n",
    "\n",
    "---\n"
   ]
  },
  {
   "attachments": {},
   "cell_type": "markdown",
   "metadata": {},
   "source": [
    "<br /><br />"
   ]
  },
  {
   "attachments": {},
   "cell_type": "markdown",
   "metadata": {},
   "source": [
    "## The Python Client basic TUTORIAL:"
   ]
  },
  {
   "cell_type": "code",
   "execution_count": null,
   "metadata": {},
   "outputs": [],
   "source": [
    "# Make sure the package `elasticsearch` is installed:\n",
    "%pip install -U elasticsearch"
   ]
  },
  {
   "attachments": {},
   "cell_type": "markdown",
   "metadata": {},
   "source": [
    "<br />"
   ]
  },
  {
   "cell_type": "code",
   "execution_count": null,
   "metadata": {},
   "outputs": [],
   "source": [
    "# Import:\n",
    "from elasticsearch import Elasticsearch\n",
    "\n",
    "# optional - for pretty printing:\n",
    "import pprint\n",
    "pp = pprint.PrettyPrinter()"
   ]
  },
  {
   "cell_type": "code",
   "execution_count": null,
   "metadata": {},
   "outputs": [],
   "source": [
    "# Assumming the ElasticSearch database is already running on localhost:9200,\n",
    "# Instance of the Elasticsearch client:\n",
    "es = Elasticsearch('localhost:9200')\n",
    "\n",
    "# Alternatively,\n",
    "# es = Elasticsearch(['localhost'], port=9200)"
   ]
  },
  {
   "cell_type": "code",
   "execution_count": null,
   "metadata": {},
   "outputs": [],
   "source": [
    "# List all indices in a cluster:\n",
    "print(es.cat.indices(v=True, s='health'))  # v=True -> show headings, s='health' -> sort by health"
   ]
  },
  {
   "cell_type": "markdown",
   "metadata": {},
   "source": [
    "<br />"
   ]
  },
  {
   "cell_type": "code",
   "execution_count": null,
   "metadata": {},
   "outputs": [],
   "source": [
    "# CRUD operations:\n",
    "index_name = \"my-test-index\"\n",
    "\n",
    "# ---\n",
    "# create an index\n",
    "es.indices.create(index=index_name, ignore=400)\n",
    "\n",
    "# add a document\n",
    "es.index(index=index_name, id=1, body={\"field_1\": \"value1\", \"field_2\": 2})\n",
    "\n",
    "# ---\n",
    "# get a document\n",
    "es.get(index=index_name, id=1)\n",
    "\n",
    "# ---\n",
    "# update a document\n",
    "es.update(index=index_name, id=1, body={'doc': {'field_1': 'updated1'}})\n",
    "\n",
    "# ---\n",
    "# delete a document\n",
    "es.delete(index=index_name, id=1)\n",
    "\n",
    "# delete an index\n",
    "es.indices.delete(index=index_name)"
   ]
  },
  {
   "cell_type": "code",
   "execution_count": null,
   "metadata": {},
   "outputs": [],
   "source": [
    "# Notes:\n",
    "\n",
    "# When creating an index, you can also already specify its mapping (and settings, etc. in the `body`):\n",
    "mapping = {\n",
    "    \"properties\": {\n",
    "        \"field_1\": {\"type\": \"text\"},\n",
    "        \"field_2\": {\"type\": \"integer\"}\n",
    "    }\n",
    "}\n",
    "es.indices.create(index=index_name, body={\"mappings\": mapping})\n",
    "\n",
    "\n",
    "# When creating an inde:\n",
    "# ignore=400 ignores the 400 cause by IndexAlreadyExistsException when creating an index.\n",
    "# in v.7.x - here's the explanation of the `ignore` parameter:\n",
    "# https://elasticsearch-py.readthedocs.io/en/7.x/api.html?highlight=elasticsearch.indices#ignore\n",
    "# in v.8.6.2 - could not find the `ignore` parameter in the docs:\n",
    "# https://elasticsearch-py.readthedocs.io/en/v8.6.2/api.html#elasticsearch.client.IndicesClient.create\n",
    "\n",
    "\n",
    "# When indexing a document (i.e., adding a document to the index):\n",
    "es.index(index=index_name, id=1, body={\"field_1\": \"value_1\", \"field_2\": 2})\n",
    "# es.create could also work (instead of es.index), but there are some differences. \n",
    "# With es.create:\n",
    "# - if the doc with the given id already exists, it will raise an error. \n",
    "# - es.create requires an id, while with es.index we don't have to specify the id, it will be auto-generated (alpha-numeric).\n"
   ]
  },
  {
   "cell_type": "markdown",
   "metadata": {},
   "source": [
    "<br />"
   ]
  },
  {
   "cell_type": "code",
   "execution_count": null,
   "metadata": {},
   "outputs": [],
   "source": [
    "# See the mapping of an index:\n",
    "print('-- mapping:')\n",
    "pp.pprint(\n",
    "    es.indices.get_mapping(index=index_name)\n",
    ")\n",
    "print()\n",
    "\n",
    "# See the specific document(s) of an index:\n",
    "print('-- document 1:')\n",
    "pp.pprint(\n",
    "    es.get(index=index_name, id=1)\n",
    ")\n",
    "print()\n",
    "\n",
    "# See ALL the documents of an index:\n",
    "print('-- all documents:')\n",
    "pp.pprint(\n",
    "    es.search(index=index_name, body={\"query\": {\"match_all\": {}}})\n",
    ")\n",
    "print()"
   ]
  },
  {
   "cell_type": "markdown",
   "metadata": {},
   "source": [
    "<br />"
   ]
  },
  {
   "cell_type": "code",
   "execution_count": null,
   "metadata": {},
   "outputs": [],
   "source": [
    "# # Copy data from an existing index into a new index:\n",
    "new_index_name = \"my-new-index\"\n",
    "es.reindex(\n",
    "    max_docs=2,  # limit: only copy the 2 first documents\n",
    "    body={\n",
    "        \"source\": {\n",
    "            \"index\": index_name  # source index\n",
    "        },\n",
    "        \"dest\": {\n",
    "            \"index\": new_index_name  # destination index\n",
    "        }\n",
    "    })\n",
    "\n",
    "\n",
    "\n",
    "# For the NEW fields in an index - can put the mapping before adding document(s) -\n",
    "# (to have specific control over the types of these fields):\n",
    "mapping = {\n",
    "    \"properties\": {\n",
    "        \"new_field\": {\"type\": \"text\"}\n",
    "    }\n",
    "}\n",
    "es.indices.put_mapping(\n",
    "    index=new_index_name,\n",
    "    body=mapping\n",
    ")\n",
    "\n",
    "# can index a document:\n",
    "es.update(\n",
    "    index=new_index_name,\n",
    "    id=2,\n",
    "    body={\n",
    "        \"doc\": {\n",
    "            \"field_1\": \"value_1_updated\",\n",
    "            \"new_field\": \"test value 2\"\n",
    "        },\n",
    "        \"doc_as_upsert\": True \n",
    "            # \"doc_as_upsert\" means that in case this id (id=2) does not exist in the index - \n",
    "            # create a document with this id.\n",
    "            # If \"doc_as_upsert\" wasn't specified - it would be False by default, \n",
    "            # and an error would be raised in the above case.\n",
    "    }   \n",
    ")\n"
   ]
  },
  {
   "cell_type": "markdown",
   "metadata": {},
   "source": [
    "<br />"
   ]
  },
  {
   "cell_type": "code",
   "execution_count": null,
   "metadata": {},
   "outputs": [],
   "source": [
    "# How to send your dataframe to ElasticSearch?\n",
    "\n",
    "# new data in a Pandas dataframe:\n",
    "import pandas as pd\n",
    "df1 = pd.DataFrame({\n",
    "    \"field_1\": [\"aa\", \"bb\", \"cc\"],\n",
    "    \"field_2\": [1, 2, 3]\n",
    "})\n",
    "# A dataframe with the new fields to be added to the documents:\n",
    "df2 = pd.DataFrame({\n",
    "    \"field_3\": [\"a\", \"b\", \"c\"],\n",
    "    \"field_4\": [4, 5, 6]\n",
    "})\n"
   ]
  },
  {
   "cell_type": "code",
   "execution_count": null,
   "metadata": {},
   "outputs": [],
   "source": [
    "# bulk update\n",
    "from elasticsearch.helpers import bulk\n",
    "\n",
    "# All bulk helpers accept an instance of `Elasticsearch` class and an iterable `actions` \n",
    "# (any iterable -- it can also be a GENERATOR, which IS IDEAL in most cases -\n",
    "# since it will allow you to index large datasets without the need of loading them into memory all at once).\n",
    "# https://elasticsearch-py.readthedocs.io/en/v7.17.9/helpers.html?highlight=update#elasticsearch.helpers.bulk\n",
    "# https://towardsdatascience.com/exporting-pandas-data-to-elasticsearch-724aa4dd8f62 (example)\n",
    "\n",
    "\n",
    "def filterKeys(row):\n",
    "    return {k: v for k, v in row.items() if v is not None}\n",
    "\n",
    "def doc_generator(df):\n",
    "    df_iter = df.iterrows()\n",
    "    for idx, row in df_iter:\n",
    "        doc = {\n",
    "            # \"_op_type\": \"index\",  # by default, it's \"index\". Can also be \"create\", \"delete\", \"update\"\n",
    "            '_index': index_name,\n",
    "            '_type': 'document',\n",
    "            \"_id\" : idx,\n",
    "            \"_source\": filterKeys(row),  # {\"field_1\": \"val1\", \"field_2\": 2312}\n",
    "        }\n",
    "        yield doc\n",
    "\n",
    "bulk(es, doc_generator(df1))\n"
   ]
  },
  {
   "cell_type": "code",
   "execution_count": null,
   "metadata": {},
   "outputs": [],
   "source": []
  }
 ],
 "metadata": {
  "kernelspec": {
   "display_name": "venv_sunrise_dashboard",
   "language": "python",
   "name": "python3"
  },
  "language_info": {
   "codemirror_mode": {
    "name": "ipython",
    "version": 3
   },
   "file_extension": ".py",
   "mimetype": "text/x-python",
   "name": "python",
   "nbconvert_exporter": "python",
   "pygments_lexer": "ipython3",
   "version": "3.10.0"
  },
  "orig_nbformat": 4,
  "vscode": {
   "interpreter": {
    "hash": "410ce2b953fec8e32987046fc629c46e82f6898b8bfdc8af6be1f657b5e8a712"
   }
  }
 },
 "nbformat": 4,
 "nbformat_minor": 2
}
